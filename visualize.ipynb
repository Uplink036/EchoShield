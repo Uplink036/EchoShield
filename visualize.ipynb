{
 "cells": [
  {
   "cell_type": "code",
   "execution_count": 9,
   "metadata": {},
   "outputs": [],
   "source": [
    "import pandas as pd\n",
    "import matplotlib.pyplot as plt\n",
    "import seaborn as sns\n",
    "import numpy as np"
   ]
  },
  {
   "cell_type": "code",
   "execution_count": null,
   "metadata": {},
   "outputs": [],
   "source": [
    "metrics = pd.read_csv(\"metrics.csv\")\n",
    "\n",
    "# Add index column\n",
    "metrics[\"index\"] = metrics.index\n",
    "metrics"
   ]
  },
  {
   "cell_type": "code",
   "execution_count": null,
   "metadata": {},
   "outputs": [],
   "source": [
    "# Plotting the data, with the x-axis being the number of epochs and the y-axis being the scores of reward, audio_sim and transcription_sim\n",
    "# fig, ax = plt.subplots()\n",
    "# ax.set(xlabel=\"Epochs\", ylabel=\"Scores\")\n",
    "plt.title(\"Scores over epochs\", fontsize=20)\n",
    "\n",
    "sns.set_theme(style=\"whitegrid\", palette=\"deep\")\n",
    "\n",
    "plt.xlabel(\"Epochs\")\n",
    "plt.locator_params(axis='x', integer=True)\n",
    "\n",
    "data = metrics.melt('index', var_name='score', value_name='value')\n",
    "sns.lineplot(x='index', y='value', hue='score', data=data)\n",
    "\n"
   ]
  },
  {
   "cell_type": "code",
   "execution_count": null,
   "metadata": {},
   "outputs": [],
   "source": [
    "fig, axes = plt.subplots(3, 1, figsize=(15, 5), sharex=True)\n",
    "fig.suptitle('RL Model metrics')\n",
    "\n",
    "metrics = metrics[0:]\n",
    "sns.lineplot(ax=axes[0], x=\"index\", y=\"reward\", data=metrics, color=\"r\")\n",
    "reward_mean = [np.mean(metrics[\"reward\"][i-0:i]) for i in range(0, len(metrics))]\n",
    "sns.lineplot(ax=axes[0], x=range(0, len(metrics)), y=reward_mean, color=\"black\")\n",
    "\n",
    "sns.lineplot(ax=axes[1], x=\"index\", y=\"transcription_sim\", data=metrics, color=\"g\")\n",
    "transcription_mean = [np.mean(metrics[\"transcription_sim\"][i-0:i]) for i in range(0, len(metrics))]\n",
    "sns.lineplot(ax=axes[1], x=range(0, len(metrics)), y=transcription_mean, color=\"black\")\n",
    "\n",
    "sns.lineplot(ax=axes[2], x=\"index\", y=\"audio_dissim\", data=metrics, color=\"b\")\n",
    "audio_mean = [np.mean(metrics[\"audio_dissim\"][i-0:i]) for i in range(0, len(metrics))]\n",
    "sns.lineplot(ax=axes[2], x=range(0, len(metrics)), y=audio_mean, color=\"black\")\n",
    "\n"
   ]
  }
 ],
 "metadata": {
  "kernelspec": {
   "display_name": "Python 3",
   "language": "python",
   "name": "python3"
  },
  "language_info": {
   "codemirror_mode": {
    "name": "ipython",
    "version": 3
   },
   "file_extension": ".py",
   "mimetype": "text/x-python",
   "name": "python",
   "nbconvert_exporter": "python",
   "pygments_lexer": "ipython3",
   "version": "3.10.15"
  }
 },
 "nbformat": 4,
 "nbformat_minor": 2
}
