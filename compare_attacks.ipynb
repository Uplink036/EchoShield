{
 "cells": [
  {
   "cell_type": "code",
   "execution_count": 31,
   "metadata": {},
   "outputs": [],
   "source": [
    "import numpy\n",
    "import pandas\n",
    "import seaborn\n",
    "import matplotlib.pyplot as plt"
   ]
  },
  {
   "cell_type": "code",
   "execution_count": 32,
   "metadata": {},
   "outputs": [],
   "source": [
    "data = pandas.read_csv('metrics_compare.csv')"
   ]
  },
  {
   "cell_type": "code",
   "execution_count": 33,
   "metadata": {},
   "outputs": [],
   "source": [
    "# Remove audio_path\n",
    "data = data.drop('audio_path', axis=1)\n",
    "data.groupby('attack_type').mean()\n",
    "\n",
    "#Normalize the data (audio_distance and similarity)\n",
    "data['audio_distance'] = data['audio_distance'] / data['audio_distance'].max()\n",
    "data['similarity'] = data['similarity'] / data['similarity'].max()\n",
    "data['dissimilarity'] = 1 - data['similarity']\n",
    "data['audio_likeness'] = 1 - data['audio_distance']"
   ]
  },
  {
   "cell_type": "code",
   "execution_count": 34,
   "metadata": {},
   "outputs": [],
   "source": [
    "data = data.melt(id_vars=['attack_type'], value_vars=['audio_likeness', 'dissimilarity', 'success'])\n"
   ]
  },
  {
   "cell_type": "code",
   "execution_count": null,
   "metadata": {},
   "outputs": [],
   "source": [
    "\n",
    "\n",
    "seaborn.set_palette('Set2')\n",
    "seaborn.catplot(x='attack_type', \n",
    "                y='value', \n",
    "                hue='variable', \n",
    "                data=data, \n",
    "                kind='bar', \n",
    "                height=6, \n",
    "                aspect=1.5)\n",
    "\n",
    "# Rotate the x-axis labels\n",
    "plt.xticks(rotation=45)\n"
   ]
  },
  {
   "cell_type": "code",
   "execution_count": null,
   "metadata": {},
   "outputs": [],
   "source": []
  }
 ],
 "metadata": {
  "kernelspec": {
   "display_name": "Python 3",
   "language": "python",
   "name": "python3"
  },
  "language_info": {
   "codemirror_mode": {
    "name": "ipython",
    "version": 3
   },
   "file_extension": ".py",
   "mimetype": "text/x-python",
   "name": "python",
   "nbconvert_exporter": "python",
   "pygments_lexer": "ipython3",
   "version": "3.10.15"
  }
 },
 "nbformat": 4,
 "nbformat_minor": 2
}
