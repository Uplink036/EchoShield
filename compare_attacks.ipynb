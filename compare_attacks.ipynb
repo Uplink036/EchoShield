{
 "cells": [
  {
   "cell_type": "code",
   "execution_count": null,
   "metadata": {},
   "outputs": [],
   "source": [
    "import numpy\n",
    "import pandas\n",
    "import seaborn\n",
    "import matplotlib.pyplot as plt"
   ]
  },
  {
   "cell_type": "code",
   "execution_count": null,
   "metadata": {},
   "outputs": [],
   "source": [
    "data = pandas.read_csv('metrics_compare.csv')"
   ]
  },
  {
   "cell_type": "code",
   "execution_count": null,
   "metadata": {},
   "outputs": [],
   "source": [
    "data.groupby('attack_type').mean()\n",
    "\n",
    "#Normalize the data (audio_distance and similarity)\n",
    "data['audio_distance'] = data['audio_distance'] / data['audio_distance'].max()\n",
    "data['similarity'] = data['similarity'] / data['similarity'].max()\n",
    "data['dissimilarity'] = 1 - data['similarity']"
   ]
  },
  {
   "cell_type": "code",
   "execution_count": null,
   "metadata": {},
   "outputs": [],
   "source": [
    "data.melt(id_vars=['attack_type'], value_vars=['audio_distance', 'dissimilarity'])"
   ]
  },
  {
   "cell_type": "code",
   "execution_count": null,
   "metadata": {},
   "outputs": [],
   "source": [
    "seaborn.set(style='whitegrid')\n",
    "seaborn.set_palette('Set2')\n",
    "seaborn.catplot(x='attack_type', y='value', hue='variable', data=data.melt(id_vars=['attack_type'], value_vars=['audio_distance', 'dissimilarity']), kind='bar', height=6, aspect=1.5)"
   ]
  }
 ],
 "metadata": {
  "kernelspec": {
   "display_name": "Python 3",
   "language": "python",
   "name": "python3"
  },
  "language_info": {
   "codemirror_mode": {
    "name": "ipython",
    "version": 3
   },
   "file_extension": ".py",
   "mimetype": "text/x-python",
   "name": "python",
   "nbconvert_exporter": "python",
   "pygments_lexer": "ipython3",
   "version": "3.10.15"
  }
 },
 "nbformat": 4,
 "nbformat_minor": 2
}
