{
 "cells": [
  {
   "cell_type": "code",
   "execution_count": null,
   "metadata": {},
   "outputs": [],
   "source": [
    "import numpy\n",
    "import pandas\n",
    "import seaborn\n",
    "import matplotlib.pyplot as plt"
   ]
  },
  {
   "cell_type": "code",
   "execution_count": null,
   "metadata": {},
   "outputs": [],
   "source": [
    "data = pandas.read_csv('metrics_compare.csv')\n",
    "# Remove audio_path\n",
    "data.drop('audio_path', axis=1, inplace=True)\n",
    "data.groupby('attack_type').mean()\n",
    "\n",
    "#Normalize the data (audio_distance and similarity)\n",
    "data['Audio Dissimilarity'] = data['audio_distance'] / data['audio_distance'].max()\n",
    "data['Transcription Similarity'] = data['similarity']\n",
    "\n",
    "data.drop(\"similarity\", axis=1,inplace=True) \n",
    "data.drop(\"audio_distance\", axis=1,inplace=True) \n",
    "\n",
    "# Rename sucess to Sucess\n",
    "data[\"Success\"] = data[\"success\"]\n",
    "data.drop(\"success\", axis=1,inplace=True) "
   ]
  },
  {
   "cell_type": "code",
   "execution_count": null,
   "metadata": {},
   "outputs": [],
   "source": [
    "data = data.melt(id_vars=['attack_type'], value_vars=['Transcription Similarity', 'Audio Dissimilarity', 'Success'])\n"
   ]
  },
  {
   "cell_type": "code",
   "execution_count": null,
   "metadata": {},
   "outputs": [],
   "source": [
    "\n",
    "seaborn.catplot(x='attack_type', \n",
    "                y='value', \n",
    "                hue='variable', \n",
    "                data=data, \n",
    "                kind='bar', \n",
    "                height=6, \n",
    "                aspect=1.5,\n",
    "                palette=\"Set2\")\n",
    "\n",
    "# Rotate the x-axis labels\n",
    "plt.xticks(rotation=45)\n"
   ]
  }
 ],
 "metadata": {
  "kernelspec": {
   "display_name": "Python 3",
   "language": "python",
   "name": "python3"
  },
  "language_info": {
   "codemirror_mode": {
    "name": "ipython",
    "version": 3
   },
   "file_extension": ".py",
   "mimetype": "text/x-python",
   "name": "python",
   "nbconvert_exporter": "python",
   "pygments_lexer": "ipython3",
   "version": "3.10.15"
  }
 },
 "nbformat": 4,
 "nbformat_minor": 2
}
